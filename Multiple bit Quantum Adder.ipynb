{
 "cells": [
  {
   "cell_type": "code",
   "execution_count": null,
   "id": "2d56f5f9-a86d-4812-b7a9-9455788686a2",
   "metadata": {},
   "outputs": [],
   "source": [
    "\n",
    "\n",
    "# Just by encoding numbers and making some changes in the given program we can add any two numbers of multiple bits.\n",
    "# For example, here two 4-bit numbers are added using the given program.\n",
    "# In this case Input(1)=1011 and Input(2)=1110.\n",
    "\n",
    "# Create quantum circuit with 25 qubits and 5 classical bits\n",
    "qc = QuantumCircuit(25,5)\n",
    "\n",
    "# First, our circuit should encode the inputs that are to be added\n",
    "\n",
    "\n",
    "# a(3) = 1 \n",
    "# a(2) = 0     Input(1)\n",
    "# a(1) = 0\n",
    "# a(0) = 1\n",
    "\n",
    "# b(3) = 1\n",
    "# b(2) = 1      Input(2)\n",
    "# b(1) = 1\n",
    "# b(0) = 0\n",
    "\n",
    "\n",
    "# Encoding the inputs\n",
    "\n",
    "qc.x(0) \n",
    "qc.x(18)\n",
    "qc.x(5)\n",
    "qc.x(12)\n",
    "qc.x(19)\n",
    "\n",
    "\n",
    "# After Encoding the inputs\n",
    "\n",
    "# q(18) = a(3) = 1\n",
    "# q(11) = a(2) = 0\n",
    "# q(4)  = a(1) = 0\n",
    "# q(0)  = a(0) = 1\n",
    "\n",
    "\n",
    "# q(19) = b(3) = 1\n",
    "# q(13) = b(2) = 1\n",
    "# q(5)  = b(1) = 1\n",
    "# q(1)  = b(0) = 0\n",
    "\n",
    "\n",
    "# For obtaining XOR of the two inputs which will denote a(0)+b(0). \n",
    "qc.cx(0,2)\n",
    "qc.cx(1,2)\n",
    "\n",
    "# For obtaining AND of the two inputs which will denote the carry ontained.\n",
    "qc.ccx(0,1,3)\n",
    "\n",
    "numbers = [4,11,18]\n",
    "\n",
    "for i in numbers:\n",
    "\n",
    "    # XOR of q(i)and q(i+1).\n",
    "    qc.cx(i,i+2)\n",
    "    qc.cx(i+1,i+2)\n",
    "    \n",
    "    # XOR of q(i+2)and q(i-1).\n",
    "    qc.cx(i+2,i+3)\n",
    "    qc.cx(i-1,i+3)\n",
    "    \n",
    "    # AND of q(i) and q(i+1).\n",
    "    qc.ccx(i,i+1,i+4)\n",
    "    \n",
    "    # AND of q(i+2) and q(i-1).\n",
    "    qc.ccx(i+2,i-1,i+5)\n",
    "  \n",
    "    # XOR of q(i+2)and q(i-1).\n",
    "    qc.cx(i+4,i+6)\n",
    "    qc.cx(i+5,i+6)\n",
    "\n",
    "\n",
    "\n",
    "\n",
    "#For measuring the qubits.\n",
    "\n",
    "qc.measure(24,4) # measure qubit 24 to classical bit 4.\n",
    "qc.measure(21,3) # measure qubit 21 to classical bit 3.\n",
    "qc.measure(14,2) # measure qubit 14 to classical bit 2.\n",
    "qc.measure(7,1)  # measure qubit  7 to classical bit 1.\n",
    "qc.measure(2,0)  # measure qubit  2 to classical bit 0.\n",
    "\n",
    "\n",
    "#For obtaining pictorialdescription of the notebook\n",
    "display(qc.draw())\n",
    "\n",
    "\n",
    "from qiskit.providers.aer import AerSimulator\n",
    "\n",
    "# Make new simulator object\n",
    "sim = AerSimulator() \n",
    "\n",
    "# Run the experiment\n",
    "job = sim.run(qc)  \n",
    "\n",
    "# Get the results\n",
    "result = job.result()   \n",
    "result.get_counts()\n"
   ]
  },
  {
   "cell_type": "code",
   "execution_count": null,
   "id": "e67bbab0-7eb9-4822-85ca-04de5116a579",
   "metadata": {},
   "outputs": [],
   "source": []
  }
 ],
 "metadata": {
  "kernelspec": {
   "display_name": "Python 3 (ipykernel)",
   "language": "python",
   "name": "python3"
  },
  "language_info": {
   "codemirror_mode": {
    "name": "ipython",
    "version": 3
   },
   "file_extension": ".py",
   "mimetype": "text/x-python",
   "name": "python",
   "nbconvert_exporter": "python",
   "pygments_lexer": "ipython3",
   "version": "3.8.13"
  },
  "widgets": {
   "application/vnd.jupyter.widget-state+json": {
    "state": {
     "0937c2e5f2d54926bf3d9708e15f5f9e": {
      "model_module": "@jupyter-widgets/controls",
      "model_module_version": "1.5.0",
      "model_name": "DescriptionStyleModel",
      "state": {
       "description_width": ""
      }
     },
     "121349a4e2ad4bdf914aaf9acb864be0": {
      "model_module": "@jupyter-widgets/controls",
      "model_module_version": "1.5.0",
      "model_name": "DescriptionStyleModel",
      "state": {
       "description_width": ""
      }
     },
     "161bdbb6cd69419394d0abcda87bcc0a": {
      "model_module": "@jupyter-widgets/base",
      "model_module_version": "1.2.0",
      "model_name": "LayoutModel",
      "state": {
       "width": "190px"
      }
     },
     "1c526cdaf70445c18acda6b844ba74f9": {
      "model_module": "@jupyter-widgets/base",
      "model_module_version": "1.2.0",
      "model_name": "LayoutModel",
      "state": {
       "margin": "0px 0px 0px 37px",
       "width": "600px"
      }
     },
     "1f66c2508047404c9edd441be71cbb27": {
      "model_module": "@jupyter-widgets/controls",
      "model_module_version": "1.5.0",
      "model_name": "HTMLModel",
      "state": {
       "layout": "IPY_MODEL_40c73e2b90ac465abf1e1aaf12e3dd94",
       "style": "IPY_MODEL_e4c47c4a46fc44d9b0b78eaf3f9f1517",
       "value": "<h5>Backend</h5>"
      }
     },
     "3991db2d0d8646efbfc089e658f56508": {
      "model_module": "@jupyter-widgets/controls",
      "model_module_version": "1.5.0",
      "model_name": "ButtonStyleModel",
      "state": {}
     },
     "39e52e0d8c294787a99458fbad540cba": {
      "model_module": "@jupyter-widgets/controls",
      "model_module_version": "1.5.0",
      "model_name": "HTMLModel",
      "state": {
       "layout": "IPY_MODEL_161bdbb6cd69419394d0abcda87bcc0a",
       "style": "IPY_MODEL_f704c0b1a67347bbafc012f7ccb1932f",
       "value": "<h5>Job ID</h5>"
      }
     },
     "3e3fcacfab46460db7d760d324b24d92": {
      "model_module": "@jupyter-widgets/base",
      "model_module_version": "1.2.0",
      "model_name": "LayoutModel",
      "state": {
       "margin": "0px 0px 10px 0px"
      }
     },
     "40c73e2b90ac465abf1e1aaf12e3dd94": {
      "model_module": "@jupyter-widgets/base",
      "model_module_version": "1.2.0",
      "model_name": "LayoutModel",
      "state": {
       "width": "145px"
      }
     },
     "45001a92c8194a61ac499036f182343f": {
      "model_module": "@jupyter-widgets/base",
      "model_module_version": "1.2.0",
      "model_name": "LayoutModel",
      "state": {
       "width": "70px"
      }
     },
     "50471a182f08449694d81b36ff4cad35": {
      "model_module": "@jupyter-widgets/controls",
      "model_module_version": "1.5.0",
      "model_name": "HTMLModel",
      "state": {
       "layout": "IPY_MODEL_45001a92c8194a61ac499036f182343f",
       "style": "IPY_MODEL_778eb92f84d74999b837ff759455b47d",
       "value": "<h5>Queue</h5>"
      }
     },
     "553623966a90402393336764adc77239": {
      "model_module": "@jupyter-widgets/controls",
      "model_module_version": "1.5.0",
      "model_name": "HTMLModel",
      "state": {
       "layout": "IPY_MODEL_8042243d76ad4a6482c4b36d2afa8ad2",
       "style": "IPY_MODEL_91f69dd572e14d148ffc7cc62a99c9e7",
       "value": "<h5>Status</h5>"
      }
     },
     "778eb92f84d74999b837ff759455b47d": {
      "model_module": "@jupyter-widgets/controls",
      "model_module_version": "1.5.0",
      "model_name": "DescriptionStyleModel",
      "state": {
       "description_width": ""
      }
     },
     "802b125958ee469b88168df5a7b9c05b": {
      "model_module": "@jupyter-widgets/controls",
      "model_module_version": "1.5.0",
      "model_name": "HTMLModel",
      "state": {
       "layout": "IPY_MODEL_f267f80e3aa04248a55262878823575a",
       "style": "IPY_MODEL_0937c2e5f2d54926bf3d9708e15f5f9e",
       "value": "<h5>Message</h5>"
      }
     },
     "8042243d76ad4a6482c4b36d2afa8ad2": {
      "model_module": "@jupyter-widgets/base",
      "model_module_version": "1.2.0",
      "model_name": "LayoutModel",
      "state": {
       "width": "95px"
      }
     },
     "8db0fdb9bdb3437b8593f7a3953ad13f": {
      "model_module": "@jupyter-widgets/controls",
      "model_module_version": "1.5.0",
      "model_name": "ButtonModel",
      "state": {
       "button_style": "primary",
       "description": "Clear",
       "layout": "IPY_MODEL_b30c811a6da745c6925931947569a059",
       "style": "IPY_MODEL_3991db2d0d8646efbfc089e658f56508"
      }
     },
     "906b6058aa074c0686cab47fb2d00428": {
      "model_module": "@jupyter-widgets/controls",
      "model_module_version": "1.5.0",
      "model_name": "GridBoxModel",
      "state": {
       "children": [
        "IPY_MODEL_8db0fdb9bdb3437b8593f7a3953ad13f"
       ],
       "layout": "IPY_MODEL_94e791dafd52488aa1484674cc8db269"
      }
     },
     "91f69dd572e14d148ffc7cc62a99c9e7": {
      "model_module": "@jupyter-widgets/controls",
      "model_module_version": "1.5.0",
      "model_name": "DescriptionStyleModel",
      "state": {
       "description_width": ""
      }
     },
     "94e791dafd52488aa1484674cc8db269": {
      "model_module": "@jupyter-widgets/base",
      "model_module_version": "1.2.0",
      "model_name": "LayoutModel",
      "state": {
       "grid_template_areas": "\n                                       \". . . . right \"\n                                        ",
       "grid_template_columns": "20% 20% 20% 20% 20%",
       "width": "100%"
      }
     },
     "b16c84c431cb476780301f59d4b04c84": {
      "model_module": "@jupyter-widgets/controls",
      "model_module_version": "1.5.0",
      "model_name": "HTMLModel",
      "state": {
       "layout": "IPY_MODEL_3e3fcacfab46460db7d760d324b24d92",
       "style": "IPY_MODEL_121349a4e2ad4bdf914aaf9acb864be0",
       "value": "<p style='font-family: IBM Plex Sans, Arial, Helvetica, sans-serif; font-size: 20px; font-weight: medium;'>Circuit Properties</p>"
      }
     },
     "b30c811a6da745c6925931947569a059": {
      "model_module": "@jupyter-widgets/base",
      "model_module_version": "1.2.0",
      "model_name": "LayoutModel",
      "state": {
       "grid_area": "right",
       "padding": "0px 0px 0px 0px",
       "width": "70px"
      }
     },
     "b64dc96a28754c40a05df4e3adfaf5d5": {
      "model_module": "@jupyter-widgets/controls",
      "model_module_version": "1.5.0",
      "model_name": "HBoxModel",
      "state": {
       "children": [
        "IPY_MODEL_39e52e0d8c294787a99458fbad540cba",
        "IPY_MODEL_1f66c2508047404c9edd441be71cbb27",
        "IPY_MODEL_553623966a90402393336764adc77239",
        "IPY_MODEL_50471a182f08449694d81b36ff4cad35",
        "IPY_MODEL_802b125958ee469b88168df5a7b9c05b"
       ],
       "layout": "IPY_MODEL_1c526cdaf70445c18acda6b844ba74f9"
      }
     },
     "e4c47c4a46fc44d9b0b78eaf3f9f1517": {
      "model_module": "@jupyter-widgets/controls",
      "model_module_version": "1.5.0",
      "model_name": "DescriptionStyleModel",
      "state": {
       "description_width": ""
      }
     },
     "f267f80e3aa04248a55262878823575a": {
      "model_module": "@jupyter-widgets/base",
      "model_module_version": "1.2.0",
      "model_name": "LayoutModel",
      "state": {}
     },
     "f704c0b1a67347bbafc012f7ccb1932f": {
      "model_module": "@jupyter-widgets/controls",
      "model_module_version": "1.5.0",
      "model_name": "DescriptionStyleModel",
      "state": {
       "description_width": ""
      }
     }
    },
    "version_major": 2,
    "version_minor": 0
   }
  }
 },
 "nbformat": 4,
 "nbformat_minor": 5
}
